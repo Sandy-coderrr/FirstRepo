{
 "cells": [
  {
   "cell_type": "code",
   "execution_count": 2,
   "metadata": {},
   "outputs": [],
   "source": [
    "from IPython.core.interactiveshell import InteractiveShell\n",
    "InteractiveShell.ast_node_interactivity = \"all\""
   ]
  },
  {
   "cell_type": "code",
   "execution_count": 3,
   "metadata": {},
   "outputs": [],
   "source": [
    "import matplotlib.pyplot as plt\n",
    "import pandas as pd\n",
    "import numpy as np\n",
    "import seaborn as sns\n",
    "from random import sample\n",
    "from scipy import stats"
   ]
  },
  {
   "cell_type": "code",
   "execution_count": 4,
   "metadata": {},
   "outputs": [
    {
     "data": {
      "text/html": [
       "<div>\n",
       "<style scoped>\n",
       "    .dataframe tbody tr th:only-of-type {\n",
       "        vertical-align: middle;\n",
       "    }\n",
       "\n",
       "    .dataframe tbody tr th {\n",
       "        vertical-align: top;\n",
       "    }\n",
       "\n",
       "    .dataframe thead th {\n",
       "        text-align: right;\n",
       "    }\n",
       "</style>\n",
       "<table border=\"1\" class=\"dataframe\">\n",
       "  <thead>\n",
       "    <tr style=\"text-align: right;\">\n",
       "      <th></th>\n",
       "      <th>A</th>\n",
       "      <th>B</th>\n",
       "      <th>C</th>\n",
       "      <th>D</th>\n",
       "    </tr>\n",
       "  </thead>\n",
       "  <tbody>\n",
       "    <tr>\n",
       "      <th>GDOmF1DPMm</th>\n",
       "      <td>0.850985</td>\n",
       "      <td>-0.709522</td>\n",
       "      <td>0.398522</td>\n",
       "      <td>-1.001478</td>\n",
       "    </tr>\n",
       "    <tr>\n",
       "      <th>YaNXN127gz</th>\n",
       "      <td>-0.410814</td>\n",
       "      <td>-1.087147</td>\n",
       "      <td>-0.590281</td>\n",
       "      <td>-1.295758</td>\n",
       "    </tr>\n",
       "    <tr>\n",
       "      <th>Lxa8U54UWR</th>\n",
       "      <td>-0.472688</td>\n",
       "      <td>-0.778617</td>\n",
       "      <td>1.437176</td>\n",
       "      <td>-0.925697</td>\n",
       "    </tr>\n",
       "    <tr>\n",
       "      <th>MWlrCWsbSZ</th>\n",
       "      <td>-0.119295</td>\n",
       "      <td>0.251164</td>\n",
       "      <td>0.690615</td>\n",
       "      <td>0.087654</td>\n",
       "    </tr>\n",
       "    <tr>\n",
       "      <th>N3X12hKKVn</th>\n",
       "      <td>-0.959540</td>\n",
       "      <td>0.863271</td>\n",
       "      <td>2.440955</td>\n",
       "      <td>0.249078</td>\n",
       "    </tr>\n",
       "    <tr>\n",
       "      <th>JKU9v9cOcU</th>\n",
       "      <td>-0.474579</td>\n",
       "      <td>-0.108381</td>\n",
       "      <td>-1.029799</td>\n",
       "      <td>-0.559695</td>\n",
       "    </tr>\n",
       "    <tr>\n",
       "      <th>YuWABVw7b2</th>\n",
       "      <td>-1.531516</td>\n",
       "      <td>1.173346</td>\n",
       "      <td>-2.210981</td>\n",
       "      <td>-0.779308</td>\n",
       "    </tr>\n",
       "    <tr>\n",
       "      <th>arcFGnKXl9</th>\n",
       "      <td>-0.989248</td>\n",
       "      <td>-0.304868</td>\n",
       "      <td>0.724408</td>\n",
       "      <td>0.068555</td>\n",
       "    </tr>\n",
       "    <tr>\n",
       "      <th>OWnZb7Wv8o</th>\n",
       "      <td>-0.646717</td>\n",
       "      <td>1.832723</td>\n",
       "      <td>0.988445</td>\n",
       "      <td>-0.342821</td>\n",
       "    </tr>\n",
       "    <tr>\n",
       "      <th>AgIA2GoUvG</th>\n",
       "      <td>1.498276</td>\n",
       "      <td>-0.741621</td>\n",
       "      <td>0.909032</td>\n",
       "      <td>-1.581825</td>\n",
       "    </tr>\n",
       "    <tr>\n",
       "      <th>GhOqNeSkk7</th>\n",
       "      <td>-0.009617</td>\n",
       "      <td>0.469207</td>\n",
       "      <td>0.788435</td>\n",
       "      <td>1.866727</td>\n",
       "    </tr>\n",
       "    <tr>\n",
       "      <th>KBbyyrNCJF</th>\n",
       "      <td>-0.504825</td>\n",
       "      <td>-0.803426</td>\n",
       "      <td>0.550741</td>\n",
       "      <td>0.507652</td>\n",
       "    </tr>\n",
       "    <tr>\n",
       "      <th>y4bOJ2Lbls</th>\n",
       "      <td>-0.043302</td>\n",
       "      <td>-0.186222</td>\n",
       "      <td>-0.142433</td>\n",
       "      <td>-1.759468</td>\n",
       "    </tr>\n",
       "    <tr>\n",
       "      <th>pTdx6Q3uoL</th>\n",
       "      <td>-0.088569</td>\n",
       "      <td>1.170239</td>\n",
       "      <td>-0.509611</td>\n",
       "      <td>0.825629</td>\n",
       "    </tr>\n",
       "    <tr>\n",
       "      <th>puyycMghf4</th>\n",
       "      <td>-1.889138</td>\n",
       "      <td>0.459685</td>\n",
       "      <td>1.926589</td>\n",
       "      <td>-0.615633</td>\n",
       "    </tr>\n",
       "    <tr>\n",
       "      <th>FHFt0GJSnr</th>\n",
       "      <td>0.581614</td>\n",
       "      <td>0.372475</td>\n",
       "      <td>-1.499348</td>\n",
       "      <td>1.093324</td>\n",
       "    </tr>\n",
       "    <tr>\n",
       "      <th>Bmh4h6PPnm</th>\n",
       "      <td>-0.257342</td>\n",
       "      <td>-0.749742</td>\n",
       "      <td>-0.480530</td>\n",
       "      <td>1.166521</td>\n",
       "    </tr>\n",
       "    <tr>\n",
       "      <th>EwHHQN7zu4</th>\n",
       "      <td>-0.509750</td>\n",
       "      <td>-0.593513</td>\n",
       "      <td>0.750836</td>\n",
       "      <td>-0.597146</td>\n",
       "    </tr>\n",
       "    <tr>\n",
       "      <th>K6ddrZfIX3</th>\n",
       "      <td>-1.679310</td>\n",
       "      <td>0.763117</td>\n",
       "      <td>0.843180</td>\n",
       "      <td>0.092145</td>\n",
       "    </tr>\n",
       "    <tr>\n",
       "      <th>ecck26VV9p</th>\n",
       "      <td>-0.318374</td>\n",
       "      <td>-0.557342</td>\n",
       "      <td>-1.323694</td>\n",
       "      <td>1.889797</td>\n",
       "    </tr>\n",
       "    <tr>\n",
       "      <th>CIVpLfaWTs</th>\n",
       "      <td>-0.975837</td>\n",
       "      <td>-0.125742</td>\n",
       "      <td>0.258139</td>\n",
       "      <td>-1.315305</td>\n",
       "    </tr>\n",
       "    <tr>\n",
       "      <th>lQyKDCZVGU</th>\n",
       "      <td>-0.604985</td>\n",
       "      <td>1.305923</td>\n",
       "      <td>-0.103382</td>\n",
       "      <td>0.664463</td>\n",
       "    </tr>\n",
       "    <tr>\n",
       "      <th>A6i3zjYfAB</th>\n",
       "      <td>-0.530976</td>\n",
       "      <td>1.101966</td>\n",
       "      <td>-0.679612</td>\n",
       "      <td>2.085119</td>\n",
       "    </tr>\n",
       "    <tr>\n",
       "      <th>32vzS7ttTB</th>\n",
       "      <td>0.289785</td>\n",
       "      <td>-0.157216</td>\n",
       "      <td>0.451423</td>\n",
       "      <td>0.201162</td>\n",
       "    </tr>\n",
       "    <tr>\n",
       "      <th>pBccikBb9m</th>\n",
       "      <td>-0.558110</td>\n",
       "      <td>-0.061331</td>\n",
       "      <td>-1.726296</td>\n",
       "      <td>-0.365723</td>\n",
       "    </tr>\n",
       "    <tr>\n",
       "      <th>qP6rs8RzVF</th>\n",
       "      <td>-0.078380</td>\n",
       "      <td>-1.267846</td>\n",
       "      <td>-0.873328</td>\n",
       "      <td>0.809441</td>\n",
       "    </tr>\n",
       "    <tr>\n",
       "      <th>G3wxmtLFYz</th>\n",
       "      <td>0.170894</td>\n",
       "      <td>-0.876769</td>\n",
       "      <td>-0.504655</td>\n",
       "      <td>1.275262</td>\n",
       "    </tr>\n",
       "    <tr>\n",
       "      <th>zg1o56tgDC</th>\n",
       "      <td>0.778497</td>\n",
       "      <td>0.511022</td>\n",
       "      <td>-0.552450</td>\n",
       "      <td>1.752356</td>\n",
       "    </tr>\n",
       "    <tr>\n",
       "      <th>FnYkPxTmEF</th>\n",
       "      <td>0.372193</td>\n",
       "      <td>0.142223</td>\n",
       "      <td>-0.936315</td>\n",
       "      <td>-1.815812</td>\n",
       "    </tr>\n",
       "    <tr>\n",
       "      <th>nyDO3mg1OM</th>\n",
       "      <td>0.630266</td>\n",
       "      <td>0.233088</td>\n",
       "      <td>-1.330000</td>\n",
       "      <td>0.153102</td>\n",
       "    </tr>\n",
       "  </tbody>\n",
       "</table>\n",
       "</div>"
      ],
      "text/plain": [
       "                   A         B         C         D\n",
       "GDOmF1DPMm  0.850985 -0.709522  0.398522 -1.001478\n",
       "YaNXN127gz -0.410814 -1.087147 -0.590281 -1.295758\n",
       "Lxa8U54UWR -0.472688 -0.778617  1.437176 -0.925697\n",
       "MWlrCWsbSZ -0.119295  0.251164  0.690615  0.087654\n",
       "N3X12hKKVn -0.959540  0.863271  2.440955  0.249078\n",
       "JKU9v9cOcU -0.474579 -0.108381 -1.029799 -0.559695\n",
       "YuWABVw7b2 -1.531516  1.173346 -2.210981 -0.779308\n",
       "arcFGnKXl9 -0.989248 -0.304868  0.724408  0.068555\n",
       "OWnZb7Wv8o -0.646717  1.832723  0.988445 -0.342821\n",
       "AgIA2GoUvG  1.498276 -0.741621  0.909032 -1.581825\n",
       "GhOqNeSkk7 -0.009617  0.469207  0.788435  1.866727\n",
       "KBbyyrNCJF -0.504825 -0.803426  0.550741  0.507652\n",
       "y4bOJ2Lbls -0.043302 -0.186222 -0.142433 -1.759468\n",
       "pTdx6Q3uoL -0.088569  1.170239 -0.509611  0.825629\n",
       "puyycMghf4 -1.889138  0.459685  1.926589 -0.615633\n",
       "FHFt0GJSnr  0.581614  0.372475 -1.499348  1.093324\n",
       "Bmh4h6PPnm -0.257342 -0.749742 -0.480530  1.166521\n",
       "EwHHQN7zu4 -0.509750 -0.593513  0.750836 -0.597146\n",
       "K6ddrZfIX3 -1.679310  0.763117  0.843180  0.092145\n",
       "ecck26VV9p -0.318374 -0.557342 -1.323694  1.889797\n",
       "CIVpLfaWTs -0.975837 -0.125742  0.258139 -1.315305\n",
       "lQyKDCZVGU -0.604985  1.305923 -0.103382  0.664463\n",
       "A6i3zjYfAB -0.530976  1.101966 -0.679612  2.085119\n",
       "32vzS7ttTB  0.289785 -0.157216  0.451423  0.201162\n",
       "pBccikBb9m -0.558110 -0.061331 -1.726296 -0.365723\n",
       "qP6rs8RzVF -0.078380 -1.267846 -0.873328  0.809441\n",
       "G3wxmtLFYz  0.170894 -0.876769 -0.504655  1.275262\n",
       "zg1o56tgDC  0.778497  0.511022 -0.552450  1.752356\n",
       "FnYkPxTmEF  0.372193  0.142223 -0.936315 -1.815812\n",
       "nyDO3mg1OM  0.630266  0.233088 -1.330000  0.153102"
      ]
     },
     "execution_count": 4,
     "metadata": {},
     "output_type": "execute_result"
    }
   ],
   "source": [
    "temp = pd.util.testing.makeDataFrame()\n",
    "temp"
   ]
  },
  {
   "cell_type": "code",
   "execution_count": 44,
   "metadata": {
    "scrolled": true
   },
   "outputs": [
    {
     "data": {
      "text/plain": [
       "<matplotlib.axes._subplots.AxesSubplot at 0x190fa8fd550>"
      ]
     },
     "execution_count": 44,
     "metadata": {},
     "output_type": "execute_result"
    },
    {
     "data": {
      "image/png": "[encoded data removed]",
      "text/plain": [
       "<Figure size 432x288 with 2 Axes>"
      ]
     },
     "metadata": {
      "needs_background": "light"
     },
     "output_type": "display_data"
    }
   ],
   "source": [
    "corr = temp.corr()\n",
    "sns.heatmap(corr)"
   ]
  },
  {
   "cell_type": "markdown",
   "metadata": {},
   "source": [
    "## KDE (Kernel Density Estimation)"
   ]
  },
  {
   "cell_type": "markdown",
   "metadata": {},
   "source": [
    "Many a times some radom distribution will not be following a particualar PDF .\n",
    "\n",
    "- Statistical Estimation: There are two terms to understand a) Population b) Sample.\n",
    "    - We cannot directly work with population. \n",
    "    - We make a conclusion or approximation on sample for population.\n",
    "    - If our sample estimation is closer to population it would mean a good statistical estimation\n",
    "- Parametric \n",
    "    - Normal Distribution (mean,  std)\n",
    "- Non Parametric \n",
    "    - No such funcitonal form to derive a PDF \n"
   ]
  },
  {
   "cell_type": "code",
   "execution_count": 7,
   "metadata": {},
   "outputs": [],
   "source": [
    "x = [-2.1, -1.3, -.4, 1.9, 5.1,  6.2, 6.7]"
   ]
  },
  {
   "cell_type": "code",
   "execution_count": 8,
   "metadata": {},
   "outputs": [
    {
     "data": {
      "text/plain": [
       "(array([2., 1., 0., 0., 1., 0., 0., 0., 1., 2.]),\n",
       " array([-2.1 , -1.22, -0.34,  0.54,  1.42,  2.3 ,  3.18,  4.06,  4.94,\n",
       "         5.82,  6.7 ]),\n",
       " <a list of 10 Patch objects>)"
      ]
     },
     "execution_count": 8,
     "metadata": {},
     "output_type": "execute_result"
    },
    {
     "data": {
      "text/plain": [
       "(-20, 20)"
      ]
     },
     "execution_count": 8,
     "metadata": {},
     "output_type": "execute_result"
    },
    {
     "data": {
      "image/png": "[encoded data removed]",
      "text/plain": [
       "<Figure size 432x288 with 1 Axes>"
      ]
     },
     "metadata": {
      "needs_background": "light"
     },
     "output_type": "display_data"
    }
   ],
   "source": [
    "plt.hist(x)\n",
    "plt.xlim(-20, 20)\n",
    "plt.show()"
   ]
  },
  {
   "cell_type": "code",
   "execution_count": 47,
   "metadata": {
    "cell_style": "split",
    "scrolled": false
   },
   "outputs": [
    {
     "data": {
      "text/plain": [
       "<matplotlib.axes._subplots.AxesSubplot at 0x190fa2ec3c8>"
      ]
     },
     "execution_count": 47,
     "metadata": {},
     "output_type": "execute_result"
    },
    {
     "data": {
      "image/png": "[encoded data removed]",
      "text/plain": [
       "<Figure size 432x288 with 1 Axes>"
      ]
     },
     "metadata": {
      "needs_background": "light"
     },
     "output_type": "display_data"
    }
   ],
   "source": [
    "#sns.kdeplot(x, gridsize=100)\n",
    "sns.kdeplot(x, kernel='gau')"
   ]
  },
  {
   "cell_type": "code",
   "execution_count": 48,
   "metadata": {},
   "outputs": [
    {
     "data": {
      "text/plain": [
       "<matplotlib.axes._subplots.AxesSubplot at 0x190fbb0eda0>"
      ]
     },
     "execution_count": 48,
     "metadata": {},
     "output_type": "execute_result"
    },
    {
     "data": {
      "image/png": "[encoded data removed]",
      "text/plain": [
       "<Figure size 432x288 with 1 Axes>"
      ]
     },
     "metadata": {
      "needs_background": "light"
     },
     "output_type": "display_data"
    }
   ],
   "source": [
    "#sns.kdeplot(x, gridsize=100)\n",
    "sns.kdeplot(x, kernel='cos')"
   ]
  },
  {
   "cell_type": "code",
   "execution_count": 49,
   "metadata": {
    "cell_style": "split"
   },
   "outputs": [
    {
     "data": {
      "text/plain": [
       "<matplotlib.axes._subplots.AxesSubplot at 0x190fbb760b8>"
      ]
     },
     "execution_count": 49,
     "metadata": {},
     "output_type": "execute_result"
    },
    {
     "data": {
      "image/png": "[encoded data removed]",
      "text/plain": [
       "<Figure size 432x288 with 1 Axes>"
      ]
     },
     "metadata": {
      "needs_background": "light"
     },
     "output_type": "display_data"
    }
   ],
   "source": [
    "sns.kdeplot(x, kernel='uni')"
   ]
  },
  {
   "cell_type": "markdown",
   "metadata": {},
   "source": [
    "<img src=\"https://upload.wikimedia.org/wikipedia/commons/thumb/4/41/Comparison_of_1D_histogram_and_KDE.png/500px-Comparison_of_1D_histogram_and_KDE.png\">\n",
    "\n",
    "different Kernels:\n",
    "- gaussian\n",
    "- rectangular\n",
    "- triangular\n",
    "- biweighth\n",
    "- uniform\n",
    "- cosine\n"
   ]
  },
  {
   "cell_type": "code",
   "execution_count": 9,
   "metadata": {},
   "outputs": [],
   "source": [
    "mean, cov = [0, 2], [(1, .5), (.5, 1)]\n",
    "x, y = np.random.multivariate_normal(mean, cov, size=50).T"
   ]
  },
  {
   "cell_type": "code",
   "execution_count": 10,
   "metadata": {},
   "outputs": [
    {
     "name": "stderr",
     "output_type": "stream",
     "text": [
      "C:\\Users\\KIIT\\Anaconda3\\lib\\site-packages\\scipy\\stats\\stats.py:1713: FutureWarning: Using a non-tuple sequence for multidimensional indexing is deprecated; use `arr[tuple(seq)]` instead of `arr[seq]`. In the future this will be interpreted as an array index, `arr[np.array(seq)]`, which will result either in an error or a different result.\n",
      "  return np.add.reduce(sorted[indexer] * weights, axis=axis) / sumval\n"
     ]
    },
    {
     "data": {
      "text/plain": [
       "<seaborn.axisgrid.JointGrid at 0x26e5f517e48>"
      ]
     },
     "execution_count": 10,
     "metadata": {},
     "output_type": "execute_result"
    },
    {
     "data": {
      "image/png": "[encoded data removed]",
      "text/plain": [
       "<Figure size 432x432 with 3 Axes>"
      ]
     },
     "metadata": {
      "needs_background": "light"
     },
     "output_type": "display_data"
    }
   ],
   "source": [
    "sns.jointplot(x, y, kind='hex') # kind kde"
   ]
  },
  {
   "cell_type": "code",
   "execution_count": 11,
   "metadata": {},
   "outputs": [
    {
     "data": {
      "text/plain": [
       "<matplotlib.axes._subplots.AxesSubplot at 0x26e606b93c8>"
      ]
     },
     "execution_count": 11,
     "metadata": {},
     "output_type": "execute_result"
    },
    {
     "data": {
      "image/png": "[encoded data removed]",
      "text/plain": [
       "<Figure size 432x288 with 1 Axes>"
      ]
     },
     "metadata": {
      "needs_background": "light"
     },
     "output_type": "display_data"
    }
   ],
   "source": [
    "sns.kdeplot(x, y, shade=True)"
   ]
  },
  {
   "cell_type": "markdown",
   "metadata": {},
   "source": [
    "## SKEWNESS"
   ]
  },
  {
   "cell_type": "code",
   "execution_count": 12,
   "metadata": {},
   "outputs": [],
   "source": [
    "r = stats.skewnorm.rvs(10, size=1000)"
   ]
  },
  {
   "cell_type": "code",
   "execution_count": 13,
   "metadata": {
    "cell_style": "split",
    "scrolled": false
   },
   "outputs": [
    {
     "data": {
      "text/plain": [
       "(array([0.38534901, 0.73413205, 0.62724692, 0.45848093, 0.32065538,\n",
       "        0.16314046, 0.0675064 , 0.03094043, 0.01968937, 0.00562553]),\n",
       " array([-0.18606906,  0.16945281,  0.52497468,  0.88049655,  1.23601842,\n",
       "         1.59154029,  1.94706217,  2.30258404,  2.65810591,  3.01362778,\n",
       "         3.36914965]),\n",
       " <a list of 10 Patch objects>)"
      ]
     },
     "execution_count": 13,
     "metadata": {},
     "output_type": "execute_result"
    },
    {
     "data": {
      "image/png": "[encoded data removed]",
      "text/plain": [
       "<Figure size 432x288 with 1 Axes>"
      ]
     },
     "metadata": {
      "needs_background": "light"
     },
     "output_type": "display_data"
    },
    {
     "data": {
      "text/plain": [
       "0.9255260073058403"
      ]
     },
     "execution_count": 13,
     "metadata": {},
     "output_type": "execute_result"
    }
   ],
   "source": [
    "plt.hist(r,  density=True, alpha=0.2)\n",
    "plt.show()\n",
    "\n",
    "stats.skew(r)"
   ]
  },
  {
   "cell_type": "code",
   "execution_count": 33,
   "metadata": {
    "scrolled": true
   },
   "outputs": [
    {
     "name": "stderr",
     "output_type": "stream",
     "text": [
      "C:\\Users\\KIIT\\Anaconda3\\lib\\site-packages\\scipy\\stats\\stats.py:1713: FutureWarning: Using a non-tuple sequence for multidimensional indexing is deprecated; use `arr[tuple(seq)]` instead of `arr[seq]`. In the future this will be interpreted as an array index, `arr[np.array(seq)]`, which will result either in an error or a different result.\n",
      "  return np.add.reduce(sorted[indexer] * weights, axis=axis) / sumval\n"
     ]
    },
    {
     "data": {
      "text/plain": [
       "<matplotlib.axes._subplots.AxesSubplot at 0x26e61057668>"
      ]
     },
     "execution_count": 33,
     "metadata": {},
     "output_type": "execute_result"
    },
    {
     "data": {
      "text/plain": [
       "<matplotlib.axes._subplots.AxesSubplot at 0x26e61057668>"
      ]
     },
     "execution_count": 33,
     "metadata": {},
     "output_type": "execute_result"
    },
    {
     "data": {
      "text/plain": [
       "1.528396518576843"
      ]
     },
     "execution_count": 33,
     "metadata": {},
     "output_type": "execute_result"
    },
    {
     "data": {
      "image/png": "[encoded data removed]",
      "text/plain": [
       "<Figure size 432x288 with 1 Axes>"
      ]
     },
     "metadata": {
      "needs_background": "light"
     },
     "output_type": "display_data"
    }
   ],
   "source": [
    "x=[1, 1, 1, 1, 1, 2, 2, 2, 3, 4, 5, 3, 2, 1, 10,15, 20, 20]\n",
    "sns.distplot(x)\n",
    "sns.kdeplot(x, kernel = \"biw\" )\n",
    "stats.skew(x)"
   ]
  },
  {
   "cell_type": "markdown",
   "metadata": {},
   "source": [
    "Skewness Formula= 3(Mean-Mode)/Standard Deviation"
   ]
  },
  {
   "cell_type": "code",
   "execution_count": 15,
   "metadata": {
    "cell_style": "split",
    "scrolled": true
   },
   "outputs": [
    {
     "data": {
      "text/plain": [
       "(1000,)"
      ]
     },
     "execution_count": 15,
     "metadata": {},
     "output_type": "execute_result"
    },
    {
     "data": {
      "text/plain": [
       "(960,)"
      ]
     },
     "execution_count": 15,
     "metadata": {},
     "output_type": "execute_result"
    },
    {
     "data": {
      "text/plain": [
       "0.947"
      ]
     },
     "execution_count": 15,
     "metadata": {},
     "output_type": "execute_result"
    }
   ],
   "source": [
    "temp = r[r<2]\n",
    "r.shape\n",
    "temp.shape\n",
    "#plt.hist(temp)\n",
    "947/1000\n",
    "#stats.skew(r)\n",
    "#stats.skew(temp)"
   ]
  },
  {
   "cell_type": "code",
   "execution_count": 39,
   "metadata": {},
   "outputs": [
    {
     "data": {
      "text/plain": [
       "(array([1., 0., 1., 0., 0., 1., 0., 1., 0., 6.]),\n",
       " array([1. , 1.4, 1.8, 2.2, 2.6, 3. , 3.4, 3.8, 4.2, 4.6, 5. ]),\n",
       " <a list of 10 Patch objects>)"
      ]
     },
     "execution_count": 39,
     "metadata": {},
     "output_type": "execute_result"
    },
    {
     "data": {
      "text/plain": [
       "(-2, 7)"
      ]
     },
     "execution_count": 39,
     "metadata": {},
     "output_type": "execute_result"
    },
    {
     "data": {
      "text/plain": [
       "<matplotlib.axes._subplots.AxesSubplot at 0x26e60ed3978>"
      ]
     },
     "execution_count": 39,
     "metadata": {},
     "output_type": "execute_result"
    },
    {
     "data": {
      "text/plain": [
       "1.528396518576843"
      ]
     },
     "execution_count": 39,
     "metadata": {},
     "output_type": "execute_result"
    },
    {
     "data": {
      "image/png": "[encoded data removed]",
      "text/plain": [
       "<Figure size 432x288 with 1 Axes>"
      ]
     },
     "metadata": {
      "needs_background": "light"
     },
     "output_type": "display_data"
    }
   ],
   "source": [
    "y=[1,2,3,4,5,5,5,5,5,5]\n",
    "plt.hist(y,color=\"black\")\n",
    "plt.xlim(-2,7)\n",
    "sns.kdeplot(x, kernel = \"biw\" )\n",
    "stats.skew(x)"
   ]
  },
  {
   "cell_type": "markdown",
   "metadata": {},
   "source": [
    "Skewness means lack of symmetry. A distribution is said to be symmetrical when the values are uniformly distributed around the mean.\n",
    "\n",
    "<img src=\"https://1.bp.blogspot.com/-_0VrqpXogME/WGtCr3j0mzI/AAAAAAAAAdI/jtVv4WnQgk8ABx9xCJKlL6Uc3PYFwfkIACLcB/s640/skk1.JPG\" height = 500 width=600>"
   ]
  },
  {
   "cell_type": "markdown",
   "metadata": {},
   "source": [
    "- if the skewness is between -0.5 and 0.5, the data are fairly symmetrical\n",
    "- If the skewness is between -1 and – 0.5 or between 0.5 and 1, the data are moderately skewed\n",
    "- If the skewness is less than -1 or greater than 1, the data are highly skewed\n",
    "\n"
   ]
  },
  {
   "cell_type": "markdown",
   "metadata": {},
   "source": [
    "### Kurtosis\n",
    "A measure of the peakness or convexity of a curve is known as Kurtosis.\n",
    "\n",
    "<img src=\"https://4.bp.blogspot.com/-eVMLBrESZOE/WGtEvHxcV6I/AAAAAAAAAdk/5NNlD_bhxRsexMUdIMB4xuzn3JExoHVQACEw/s400/skk6.JPG\" >\n",
    "\n",
    "           \n",
    "It is clear from the above figure that all the three curves, (1), (2) and (3) are symmetrical about the mean. Still they are not of the same type. "
   ]
  },
  {
   "cell_type": "markdown",
   "metadata": {},
   "source": [
    "- “Kurtosis is the degree of peakedness of a distribution” – <b>Wolfram MathWorld</b>\n",
    "- “We use kurtosis as a measure of peakedness (or flatness)” – <b>Real Statistics Using Excel</b>\n"
   ]
  },
  {
   "cell_type": "markdown",
   "metadata": {},
   "source": [
    "<b>Dr. Wheeler defines kurtosis as:</b>\n",
    "\n",
    "“The kurtosis parameter is a measure of the combined weight of the tails relative to the rest of the distribution.”"
   ]
  },
  {
   "cell_type": "markdown",
   "metadata": {},
   "source": [
    "<img src=\"https://www.spcforexcel.com/files/images/Skewness-Kurtosis-Figures/Figure-4.png\">"
   ]
  },
  {
   "cell_type": "markdown",
   "metadata": {},
   "source": [
    "<img src=\"https://www.spcforexcel.com/files/images/Skewness-Kurtosis-Figures/Figure-5.png\">"
   ]
  },
  {
   "cell_type": "markdown",
   "metadata": {},
   "source": [
    "<b>High kurtosis </b>in a data set is an indicator that data has heavy tails or outliers. If there is a high kurtosis, then, we need to investigate why do we have so many outliers. It indicates a lot of things, maybe wrong data entry or other things. Investigate!\n",
    "\n",
    "<b>Low kurtosis</b> in a data set is an indicator that data has light tails or lack of outliers. If we get low kurtosis(too good to be true), then also we need to investigate and trim the dataset of unwanted results."
   ]
  },
  {
   "cell_type": "markdown",
   "metadata": {},
   "source": [
    "###  <font color='red'>The values for asymmetry and kurtosis between -2 and +2 are considered acceptable in order to prove normal univariate distribution (George & Mallery, 2010). George, D., & Mallery, M. (2010). SPSS for Windows Step by Step: A Simple Guide and Reference, 17.0 update (10a ed.) Boston: Pearson."
   ]
  },
  {
   "cell_type": "markdown",
   "metadata": {},
   "source": [
    "## Sampling Variability"
   ]
  },
  {
   "cell_type": "markdown",
   "metadata": {},
   "source": [
    "From the  population we take samples  and for each with calcualte sample statitic . \n",
    "The distribution of these sample is known as <b>Sample Distribution."
   ]
  },
  {
   "cell_type": "code",
   "execution_count": 5,
   "metadata": {
    "scrolled": true
   },
   "outputs": [
    {
     "data": {
      "text/plain": [
       "array([1.83174327e+01, 1.67297935e+01, 5.08713323e+01, 7.78729353e+01,\n",
       "       4.55247445e+01, 6.97364150e+00, 8.18138962e+01, 8.15117995e+01,\n",
       "       7.28959920e+01, 6.59859022e+01, 7.40647086e+01, 2.02277583e+01,\n",
       "       4.53530543e+01, 1.10173783e+01, 3.06435867e+01, 8.92220375e+01,\n",
       "       6.10406384e+01, 3.22892429e+01, 8.29205039e+01, 2.43585321e+01,\n",
       "       1.45711383e+01, 4.14089027e+01, 5.61717427e+00, 9.57546770e+01,\n",
       "       2.29087079e+01, 7.13203352e+01, 6.01879287e+01, 1.70020458e+01,\n",
       "       5.95620324e+01, 6.53882702e+01, 1.30448367e+01, 7.89129836e+01,\n",
       "       3.24877329e+00, 9.31685113e-01, 5.19923688e+01, 9.04140432e+01,\n",
       "       8.76055278e+01, 4.96959724e+01, 3.87041515e+01, 2.22701254e+01,\n",
       "       1.03894513e+01, 6.37590140e+01, 5.18471679e+01, 4.87004820e+01,\n",
       "       7.11950308e+01, 9.98311430e+01, 9.87006368e+01, 3.07697954e+01,\n",
       "       6.49392639e+00, 7.41163368e+01, 8.48396347e+01, 2.79086231e+01,\n",
       "       2.67622388e+01, 2.18505357e+01, 4.83224732e+01, 8.13964614e+01,\n",
       "       9.87726324e+01, 2.35682016e+00, 7.06940474e+01, 9.21206493e+01,\n",
       "       8.24306964e+01, 9.39323315e+01, 2.35862524e+01, 6.15505013e+01,\n",
       "       6.37885979e+01, 9.15259764e+00, 5.98714512e+01, 5.88289486e+01,\n",
       "       5.02781054e+01, 4.18528650e+01, 3.59317113e+00, 7.61414081e+01,\n",
       "       5.64295720e+01, 2.44437220e+01, 7.19608544e+01, 2.14730542e+01,\n",
       "       9.99689069e+00, 5.22456124e+00, 7.84174884e+01, 4.98534460e+01,\n",
       "       7.97943523e+01, 3.53806959e+01, 2.39070841e+01, 2.99764990e+01,\n",
       "       8.65566894e+01, 8.18151698e+01, 4.59967362e+01, 7.70053489e+01,\n",
       "       5.05678094e+01, 7.74164770e+00, 7.79758690e-01, 6.82200230e+01,\n",
       "       6.82405811e+01, 2.85794377e+01, 8.86756298e+01, 8.97511305e+01,\n",
       "       5.53843341e+01, 4.67686685e+01, 6.32671358e+01, 9.78154154e+01,\n",
       "       8.45725095e+01, 6.79037629e+01, 5.98549676e+01, 9.23250268e+00,\n",
       "       5.10311055e+01, 2.89265139e+01, 1.67360324e+01, 6.91426240e+01,\n",
       "       8.76736619e+01, 4.31615224e+01, 3.60029767e+01, 3.13839705e+01,\n",
       "       4.40246480e+00, 8.90267542e+01, 9.43824344e+01, 1.57819868e+01,\n",
       "       4.58865459e+01, 4.25504985e+01, 1.96105991e+01, 4.64392849e+01,\n",
       "       5.69945928e+01, 3.43774808e+01, 1.76905949e+01, 5.03583178e+01,\n",
       "       8.76668619e+01, 1.69802132e+01, 2.72530249e+01, 4.00511618e+01,\n",
       "       2.07000407e+01, 1.69356592e+01, 5.10641741e+01, 6.08785469e+01,\n",
       "       3.48303308e+01, 7.86324435e+01, 6.24414291e+01, 3.91679607e+01,\n",
       "       8.36860564e+00, 3.18141590e+01, 3.50436340e+00, 2.90032667e+01,\n",
       "       6.80442377e+01, 3.41261356e+01, 3.37213721e+01, 6.61080721e+01,\n",
       "       7.91905149e+01, 1.99555381e+01, 3.90287719e+01, 7.88852209e+01,\n",
       "       8.51583551e+00, 6.89661731e+01, 2.04602856e+01, 8.25230730e+01,\n",
       "       4.05187934e+01, 7.43807318e+01, 9.00714169e+01, 4.07711318e+01,\n",
       "       1.94490155e+01, 2.53463299e+01, 6.81975695e+01, 4.76300325e+01,\n",
       "       6.47202204e+01, 8.29795246e+01, 1.08095436e+01, 4.71222845e+01,\n",
       "       7.93449621e-01, 4.17372687e+01, 8.42615534e+01, 5.70929824e+01,\n",
       "       7.11338526e+01, 2.97809259e+01, 9.47560688e+01, 2.63934894e+00,\n",
       "       5.38080246e+01, 4.35777394e+01, 6.43593459e+01, 9.18940086e+01,\n",
       "       2.36570883e+01, 9.55497281e+01, 3.66648834e+01, 9.04825080e+01,\n",
       "       5.53314901e+01, 2.58798321e+01, 1.14033143e+01, 5.56480148e+01,\n",
       "       6.28596278e+01, 6.02696529e+01, 1.98803085e+00, 9.12855213e+01,\n",
       "       9.64646179e+00, 3.72913463e+01, 8.34741164e+01, 8.93759094e+00,\n",
       "       9.21301055e+01, 5.91499486e+01, 4.17677591e+00, 9.09870467e+01,\n",
       "       3.84269082e+01, 5.84731145e+01, 2.51578953e+01, 1.82359751e+01,\n",
       "       4.70587856e+01, 1.29520043e+01, 7.18768333e+01, 7.34048199e+01,\n",
       "       7.80665920e+01, 4.15154491e+01, 1.44892185e+01, 9.82747992e+01,\n",
       "       8.51033758e+01, 1.53343872e+01, 4.13581594e+01, 2.24367099e+01,\n",
       "       8.33091124e+01, 4.46739416e+01, 5.40960157e+01, 8.74633494e+01,\n",
       "       4.66794459e+01, 6.19309783e+01, 1.18172822e+01, 4.34352594e+01,\n",
       "       9.34132068e+01, 6.65447982e+01, 3.34881935e+00, 2.19437490e+01,\n",
       "       7.57452782e+00, 4.82125242e+01, 7.24734427e+01, 6.41949398e+01,\n",
       "       6.90456345e+01, 7.05141820e+00, 7.20661822e+01, 4.98514473e+01,\n",
       "       8.89531247e+01, 7.78659355e+01, 8.84168830e+01, 7.79676051e+01,\n",
       "       1.35388891e+01, 5.52107692e+01, 5.72472554e+01, 9.64979179e+01,\n",
       "       5.22665215e+01, 8.07189856e+01, 4.14530581e+00, 6.35414797e+01,\n",
       "       8.43459717e+01, 3.45589791e+00, 6.61269790e+01, 8.86954822e+01,\n",
       "       6.30517341e+01, 5.00569487e+01, 3.05283788e+01, 6.88296409e+01,\n",
       "       3.84471485e+01, 7.43119729e+01, 6.36724266e+01, 1.97194954e+01,\n",
       "       8.84435478e+01, 9.62940800e-01, 5.31961638e+01, 7.38643192e+01,\n",
       "       3.57620416e+01, 4.32977795e+01, 7.20548264e+01, 9.02172758e+01,\n",
       "       3.94285823e+01, 4.60626148e+01, 6.52887831e+01, 5.19261479e+00,\n",
       "       1.26542896e+01, 6.82222101e+01, 2.33330660e+01, 2.71143597e+01,\n",
       "       6.75042374e+01, 8.11421573e+01, 5.43284461e+01, 8.53137698e+01,\n",
       "       8.25266247e+01, 5.67043504e+01, 4.69181799e+01, 4.67867158e+01,\n",
       "       4.00642094e+01, 3.45965502e+01, 4.27015350e+01, 9.68996903e+00,\n",
       "       6.91245086e+01, 2.92786425e+01, 6.63123929e+00, 4.41218027e+01,\n",
       "       2.34356006e+01, 7.14354150e+01, 4.35454135e+01, 5.32628262e+01,\n",
       "       4.66973770e+01, 5.05333160e+01, 1.52417201e+01, 1.23879871e+01,\n",
       "       3.26407767e-01, 1.25840146e+01, 1.16605565e+01, 3.70109463e+01,\n",
       "       7.11930742e+01, 8.80225206e+01, 4.11375203e+01, 4.00646329e+01,\n",
       "       8.53588197e+01, 7.90987457e+01, 4.80588406e-01, 8.96843151e+01,\n",
       "       7.92672785e+01, 3.50577062e+01, 2.19115866e+01, 8.72735765e+01,\n",
       "       1.18469611e+01, 6.32424152e+01, 1.67828441e+01, 9.44243292e+01,\n",
       "       8.53558998e+01, 3.91919307e+01, 2.69806267e+01, 4.14731811e+01,\n",
       "       9.08025588e+01, 6.76595434e+01, 8.57682239e+01, 6.51108831e+01,\n",
       "       8.12789338e+01, 6.67120013e+01, 8.60259360e+01, 3.72924868e+01,\n",
       "       8.09878449e+01, 9.40389905e+01, 6.92151324e+01, 7.10537236e+01,\n",
       "       1.12589547e+01, 4.09222907e+01, 3.17768713e+01, 1.13467008e+01,\n",
       "       1.02878905e+01, 3.71608551e+01, 6.74732520e+01, 9.03635718e+00,\n",
       "       7.66396875e+01, 1.95371645e+01, 3.83864568e+00, 6.86673109e+01,\n",
       "       2.02072159e+01, 8.23869671e+01, 7.47780765e+01, 1.32877523e+00,\n",
       "       1.29337015e+01, 1.16006010e+01, 2.16416177e+01, 4.08943424e+01,\n",
       "       2.25296044e+01, 1.20123198e+01, 5.98874725e+01, 4.24316296e+01,\n",
       "       9.11251571e+01, 5.39021727e+01, 6.69253854e+01, 5.47387824e+01,\n",
       "       7.06388168e+01, 6.52273701e+00, 2.47477455e+01, 4.44939651e+01,\n",
       "       4.34010006e+01, 7.27069943e+01, 8.19199736e+01, 9.17758974e+01,\n",
       "       5.02164046e+01, 9.33002376e+01, 8.36275075e+01, 5.00509802e+00,\n",
       "       2.91717883e+01, 5.58583926e+01, 7.53177925e+01, 3.96228726e+01,\n",
       "       1.29663867e+01, 8.08354573e+01, 8.76350339e+01, 3.77421006e+01,\n",
       "       1.73061150e+01, 5.06228468e+00, 3.72861179e+01, 6.61120011e+01,\n",
       "       5.33371473e+01, 3.78568242e+01, 3.58089735e+01, 6.65915946e+01,\n",
       "       1.78584801e+01, 1.87792945e+01, 9.70539265e-01, 3.46951766e+01,\n",
       "       4.25437656e+01, 5.49599331e+01, 1.29090507e+01, 1.89143638e+01,\n",
       "       9.72333997e+01, 6.76975125e+01, 5.40000471e+01, 8.33450391e+01,\n",
       "       8.71446332e+00, 8.96768178e-01, 7.69686572e+01, 8.65448091e+01,\n",
       "       6.09136285e+01, 6.66117016e+01, 8.86928998e+01, 3.26418357e-01,\n",
       "       8.38195902e+01, 6.47576029e+01, 5.36349615e+01, 4.86900264e+01,\n",
       "       9.42745278e+01, 5.51039121e+01, 8.05836132e+01, 9.80259755e+01,\n",
       "       6.30814818e+01, 9.08337913e+01, 1.93222016e+01, 5.88106636e+01,\n",
       "       7.19769468e+01, 1.31070441e+01, 3.41325217e+01, 3.33489383e+01,\n",
       "       2.26966178e+01, 5.82073872e+01, 3.17273728e+01, 3.12803775e+01,\n",
       "       6.51973420e+01, 4.10445636e+01, 5.15108019e+01, 8.37752381e+01,\n",
       "       5.98964282e+01, 9.29009517e+01, 9.08499376e+01, 3.93826142e+01,\n",
       "       6.99717432e+01, 7.77461419e+01, 7.04877894e+01, 9.01005160e+01,\n",
       "       6.92383069e+01, 5.37006085e+01, 1.83653001e+01, 2.99841927e+01,\n",
       "       8.81340403e+00, 2.13107602e+01, 4.51306280e+01, 2.95699780e+01,\n",
       "       6.07189883e+01, 5.09033372e+01, 3.68802575e+01, 3.39502256e+01,\n",
       "       2.89089943e+01, 6.49501972e+01, 9.34529363e+01, 4.41587076e+01,\n",
       "       9.26247501e+01, 8.18506734e+01, 4.83415383e+01, 2.73230844e+00,\n",
       "       9.90796470e+01, 7.69316435e+01, 4.81882111e+01, 7.75852364e+01,\n",
       "       5.00757852e+01, 5.86118787e+01, 7.90753675e+01, 6.29280482e+01,\n",
       "       3.95565427e+01, 7.28191250e+01, 6.46570795e+01, 3.26108623e+01,\n",
       "       1.29954569e+01, 7.24959691e+01, 4.60682308e+01, 6.55444247e+01,\n",
       "       9.51204994e+01, 4.78558338e+01, 6.74341473e+01, 5.64016604e+01,\n",
       "       1.69605737e+01, 9.00989434e+01, 4.91264428e+01, 6.95684267e+01,\n",
       "       5.12939682e+01, 6.38113500e+00, 4.49687050e+01, 2.80423080e+01,\n",
       "       1.65468739e+01, 9.25465709e+01, 3.36049164e+00, 3.54386555e+01,\n",
       "       4.10317113e+00, 9.89039245e+00, 5.38724347e+01, 8.88201787e+01,\n",
       "       4.64766599e+01, 3.80121095e+01, 7.05249266e+01, 7.31337477e+01,\n",
       "       3.83450432e+01, 3.20060529e+01, 7.75961773e+01, 6.59791213e+01,\n",
       "       6.11786612e+01, 7.09233860e+01, 2.01850896e+00, 9.74452375e+01,\n",
       "       8.27596145e+00, 2.97983262e+01, 8.88844549e+00, 3.28792321e+01,\n",
       "       9.34439456e+01, 1.79543996e+01, 5.58937406e+01, 6.20237044e+01,\n",
       "       6.39593685e+01, 3.43732806e+01, 7.64308487e-01, 5.11672543e+01,\n",
       "       7.09953961e+01, 9.63903776e+01, 2.28152825e+01, 1.44190455e+01,\n",
       "       3.63737776e+01, 8.44760314e+01, 8.74657976e+01, 9.53278086e+01,\n",
       "       2.71600044e+01, 8.24534927e+01, 1.93865214e+01, 6.04041046e+01,\n",
       "       6.86331274e+01, 5.23575161e+00, 3.23892372e+01, 4.26494063e+01,\n",
       "       8.62111827e+01, 7.76874568e+01, 3.00774953e+01, 8.55156580e+01,\n",
       "       2.52646756e+01, 6.14362250e+01, 5.76718142e+01, 9.59504864e+00,\n",
       "       4.04512950e+01, 2.11540367e-01, 3.77090136e+00, 8.46730714e+01,\n",
       "       3.99619987e+01, 4.39722209e+00, 1.87246208e+01, 7.30664717e+01,\n",
       "       2.89372921e+01, 8.43673744e+01, 7.66850964e+00, 4.31358617e+01,\n",
       "       3.83126969e+01, 9.44772002e+01, 5.56236937e+01, 7.21501012e+01,\n",
       "       9.62332957e+01, 1.07807344e+01, 9.10560625e+01, 8.46811259e+01,\n",
       "       5.07889301e+01, 9.13914235e+01, 6.99894988e+01, 8.24396784e+01,\n",
       "       5.80106699e+01, 3.20735277e+00, 6.48076928e+01, 1.50252507e+01,\n",
       "       3.66623675e+01, 1.62848109e+01, 8.11964560e+00, 7.98919175e+01,\n",
       "       5.38475825e+01, 8.20327893e+01, 6.93761860e+01, 3.47397580e+00,\n",
       "       9.40871203e+00, 1.06805516e+01, 7.40365268e+01, 1.95409078e+01,\n",
       "       6.09307082e+01, 4.55156670e+01, 5.08731656e+01, 6.39394776e+01,\n",
       "       2.26561363e+01, 6.25616999e+01, 3.74402879e+01, 7.69155684e+01,\n",
       "       5.54337864e+01, 6.30636527e+01, 7.91259888e+01, 7.10600645e+01,\n",
       "       2.49210275e+01, 8.67376153e+01, 9.54201774e+01, 3.07905528e+01,\n",
       "       6.92222384e+00, 9.86402960e+01, 1.75940618e+01, 1.96266409e+01,\n",
       "       5.45896907e+01, 7.35063706e+01, 6.73845440e+01, 1.57734776e+01,\n",
       "       2.72630754e+01, 5.31453577e+01, 8.18442921e+01, 7.84115650e+01,\n",
       "       6.20726247e+01, 3.67131058e+01, 5.70798706e+01, 4.32075616e+01,\n",
       "       8.96981628e+01, 9.41714140e+01, 5.35113313e+01, 3.24691320e+01,\n",
       "       7.42015556e+01, 4.49421356e+01, 5.98445904e+01, 6.73126226e+01,\n",
       "       6.58565424e+01, 9.42038489e+01, 9.41737739e+01, 5.15020409e+01,\n",
       "       5.81594382e+01, 3.29741564e+01, 5.17393394e+01, 4.40402662e+01,\n",
       "       6.48944939e+01, 5.83482601e+01, 4.33993346e+00, 3.31234013e+01,\n",
       "       1.81491837e+00, 9.39767069e+01, 7.89896557e+01, 7.24833590e+01,\n",
       "       4.93058450e+01, 5.77460659e+01, 5.80557127e+01, 2.49884295e+01,\n",
       "       7.26881513e+01, 4.29328349e+01, 3.65424385e+01, 9.99372160e+01,\n",
       "       9.18531934e+01, 6.39774985e+01, 2.95374786e-01, 6.71175048e+00,\n",
       "       5.32911791e+01, 8.32643931e+01, 8.43648757e+01, 1.96034973e+01,\n",
       "       6.86499507e+01, 3.58932586e+01, 8.86468157e+01, 2.68944778e+01,\n",
       "       4.25383001e+00, 4.60566520e+00, 8.19863215e+01, 2.11059135e+01,\n",
       "       8.18251115e+01, 9.08791700e+01, 6.63173937e+01, 5.48406205e+01,\n",
       "       4.86394647e+01, 1.25670610e+01, 6.94607548e+01, 1.87462100e+01,\n",
       "       4.46099868e+01, 4.78301755e+01, 4.18833571e+01, 6.58995612e+01,\n",
       "       2.64809379e+01, 9.51275351e+01, 7.75567827e+01, 5.35496676e+01,\n",
       "       1.00400747e+01, 6.56132007e+01, 8.87973026e+01, 6.13684633e+01,\n",
       "       2.78135083e+01, 7.51131968e+01, 3.52727384e+01, 8.89260354e+01,\n",
       "       7.43190030e+01, 7.20673413e+01, 9.16559185e+01, 7.81440043e+01,\n",
       "       5.90616019e+01, 6.23713928e+01, 9.77070398e+01, 3.28760600e+01,\n",
       "       9.93906607e+01, 4.14754282e+01, 7.44515091e+01, 3.62656839e+01,\n",
       "       2.85125028e+01, 3.29653937e+01, 6.38512158e+01, 4.55646937e+01,\n",
       "       4.35662465e+01, 8.17391806e+01, 8.84016688e+01, 7.59728725e+01,\n",
       "       2.57497414e+01, 3.28164005e+01, 8.10292811e+01, 7.46655394e+01,\n",
       "       1.02757839e+01, 7.94575446e+01, 6.48872580e+01, 2.15220745e+01,\n",
       "       7.14171262e+01, 3.94349908e+01, 9.95292440e+01, 1.21202921e+01,\n",
       "       2.78736322e+01, 2.07219527e+01, 9.80005541e+01, 2.23315289e+01,\n",
       "       4.45556885e+01, 3.17588690e+01, 5.68963306e+01, 2.59780466e+01,\n",
       "       7.09683398e+00, 1.28895867e+01, 9.36474615e+01, 1.54198044e+01,\n",
       "       4.77431552e+01, 8.66647634e+01, 9.93985771e+01, 2.41133329e+01,\n",
       "       5.94976828e+01, 6.92220348e+01, 9.69440372e+01, 1.21128832e+01,\n",
       "       4.93254412e+01, 4.98236588e+01, 1.99256179e+01, 1.56302187e+01,\n",
       "       5.54806900e+01, 6.98875377e+01, 3.01420247e+01, 2.86883693e+01,\n",
       "       2.07486269e+01, 5.23428281e+01, 1.11404636e+01, 6.14420493e+01,\n",
       "       6.47030843e-02, 8.24566476e+01, 6.93886355e+00, 6.14487104e+00,\n",
       "       7.03858709e+01, 5.58905136e+01, 6.70274883e+01, 3.49113854e+01,\n",
       "       1.11415261e+01, 4.11565957e+01, 9.49031763e+01, 3.22607004e-02,\n",
       "       8.55273045e+01, 2.09482742e+01, 1.39367687e+01, 7.96660431e+00,\n",
       "       2.73661907e+01, 7.49662419e+01, 6.61611081e+01, 1.30017438e+01,\n",
       "       1.65719788e+01, 5.36481529e+01, 2.81332344e+01, 1.26830306e+01,\n",
       "       2.06292435e+01, 2.22989725e+01, 7.01868263e+01, 1.86124700e+01,\n",
       "       7.74412399e+01, 1.74486878e+00, 8.26817469e+01, 1.76218510e+00,\n",
       "       7.79266370e+01, 8.35881144e+01, 9.85855723e+01, 2.74244390e+01,\n",
       "       9.82487165e+01, 1.92415003e+01, 4.85452788e+01, 9.45122553e+01,\n",
       "       3.00661782e+01, 7.90136041e+01, 9.22197249e+01, 7.40172342e+01,\n",
       "       1.65557090e+01, 6.93350810e+01, 8.84882417e+01, 7.93542140e+01,\n",
       "       6.59214776e+01, 5.94163793e+00, 8.13625485e+01, 9.23226534e+01,\n",
       "       4.03562014e+01, 6.74869038e+01, 6.32290436e+01, 9.98773139e+01,\n",
       "       8.52457151e+01, 7.31639337e+01, 9.95209730e+01, 4.73579466e+01,\n",
       "       4.50785031e+01, 1.59248235e+01, 6.98255735e+00, 1.35516327e+01,\n",
       "       8.43377476e+01, 7.88242065e+00, 9.67158444e+01, 1.13699250e+01,\n",
       "       7.66861239e+01, 9.48285065e+01, 8.77329257e+01, 6.03400113e+00,\n",
       "       7.92282861e+01, 9.86370166e+01, 3.05195271e+01, 2.44697403e+01,\n",
       "       1.25524902e+01, 3.43307963e+01, 7.20003872e+01, 5.77361797e+01,\n",
       "       7.43904842e+01, 3.02197802e+01, 6.52400945e+01, 4.54616329e+01,\n",
       "       1.30040033e+01, 1.26956994e+01, 7.48359422e+01, 7.08542581e+01,\n",
       "       6.74093741e+01, 6.13937055e+01, 9.18953972e+01, 3.40139813e+01,\n",
       "       4.84199230e+01, 6.31451906e+01, 3.66008451e+01, 4.55163022e+01,\n",
       "       5.34393696e+01, 2.22701749e+01, 6.59377029e+01, 3.02338068e+00,\n",
       "       8.77078790e+01, 7.42586470e+01, 6.64493807e+01, 8.32985094e+01,\n",
       "       5.72349579e+01, 6.29422524e+01, 7.75351934e+01, 8.31413126e+01,\n",
       "       3.45794992e+01, 6.22924264e+01, 8.57533974e+01, 2.23082291e+01,\n",
       "       3.43110170e+01, 3.05511165e+01, 2.13126057e+01, 5.28934575e+01,\n",
       "       9.60812830e+01, 8.65590358e+01, 1.11399015e+01, 8.25555752e+01,\n",
       "       8.23632449e+01, 1.60730402e+01, 9.52489106e+01, 7.83089075e+01,\n",
       "       3.02367388e+01, 4.12732017e+01, 6.21699513e+01, 6.47026113e-01,\n",
       "       6.46151730e+01, 7.05397125e+01, 6.25432482e+01, 4.66457961e+01,\n",
       "       9.58642184e+01, 4.15066997e+01, 1.27132154e+01, 9.57607606e+01,\n",
       "       1.92923005e+01, 5.58719060e+01, 4.09571574e+01, 9.80354279e+01,\n",
       "       5.48637869e+01, 1.44710975e+01, 3.47297770e+01, 3.39091932e+01,\n",
       "       4.57752856e+00, 1.24047672e+01, 4.27667133e+01, 5.86263463e+01,\n",
       "       7.43041223e+01, 3.21615952e+01, 6.69085299e+01, 6.34219698e+01,\n",
       "       1.65366017e+01, 7.28674351e+01, 8.65990493e+01, 5.42071641e+01,\n",
       "       5.54441241e+01, 3.87133211e+01, 1.69081661e+01, 1.18911435e+01,\n",
       "       8.83099908e+01, 1.33048502e+01, 8.56887955e+01, 3.85835895e+01,\n",
       "       1.08682111e+01, 1.85512642e+01, 2.50960439e+01, 3.88135349e+01,\n",
       "       7.42667224e+01, 9.38327000e+01, 4.46329305e+01, 1.03222167e+01,\n",
       "       3.84305145e+01, 9.16514708e+01, 6.55118822e+01, 2.96806942e+01,\n",
       "       9.14433300e+01, 1.19633958e+01, 4.15642388e+00, 4.37144045e+01,\n",
       "       2.56586834e+01, 8.69660963e+01, 4.40289534e+01, 3.29320714e+01,\n",
       "       2.74413556e+01, 5.10898222e+01, 4.75480312e+01, 7.23831533e+01,\n",
       "       2.96215907e+01, 2.68022827e+01, 2.29748732e+01, 3.37003029e+01,\n",
       "       6.06787396e+01, 9.50465487e+01, 5.14394126e+01, 8.73719769e+01,\n",
       "       1.01243683e+01, 7.56310383e+01, 8.38333314e+01, 4.35601581e+00,\n",
       "       3.41605215e+01, 5.67335161e+00, 7.43223629e+01, 7.43430684e+01,\n",
       "       9.89057387e+00, 5.41287686e+01, 4.87458764e+01, 3.60204799e+01,\n",
       "       4.44928288e+01, 2.24700882e+01, 9.41961155e+01, 8.01579893e+01,\n",
       "       4.92515915e+01, 8.22636462e+01, 7.87916034e+00, 2.13599639e+01,\n",
       "       8.19459911e+00, 4.88865478e+00, 7.02982892e+01, 5.46311379e+01,\n",
       "       3.68911462e+01, 7.79396878e+01, 1.86670238e+01, 4.08557861e+00,\n",
       "       5.39642231e+01, 4.33635388e+01, 6.67759463e+01, 4.90757599e+01,\n",
       "       3.37370825e+01, 8.59497184e+01, 5.62520181e+01, 7.03760617e+01,\n",
       "       5.80200417e+01, 8.28773945e+00, 3.78787109e+01, 8.57212509e+01,\n",
       "       3.71318192e+01, 3.89013094e+01, 2.72624033e+01, 4.08999015e+01,\n",
       "       4.27252153e+01, 3.05593269e+01, 3.43997911e+01, 7.06166125e+01,\n",
       "       9.35240295e+01, 6.66374342e+00, 1.97079778e+01, 3.62585763e+01])"
      ]
     },
     "execution_count": 5,
     "metadata": {},
     "output_type": "execute_result"
    }
   ],
   "source": [
    "x = np.random.random(1000) * 100\n",
    "x  # US women population heights"
   ]
  },
  {
   "cell_type": "code",
   "execution_count": 6,
   "metadata": {},
   "outputs": [
    {
     "name": "stdout",
     "output_type": "stream",
     "text": [
      "mean of samples: 51.4727473437351  mean of population: 50.27472854565594\n",
      "std of samples: 8.791531324673507  std of population: 28.426738643746674\n"
     ]
    }
   ],
   "source": [
    "l = []\n",
    "for i in range(100):\n",
    "    l.append (np.mean(sample(list(x), 10)))\n",
    "    \n",
    "print (\"mean of samples: \"+ str(np.mean(l)) + \"  mean of population: \" + str(np.mean(x)))   \n",
    "\n",
    "# look at mean of samples\n",
    "\n",
    "print (\"std of samples: \"+ str(np.std(l)) + \"  std of population: \" + str(np.std(x)))   \n"
   ]
  },
  {
   "cell_type": "code",
   "execution_count": 59,
   "metadata": {
    "cell_style": "split"
   },
   "outputs": [
    {
     "data": {
      "text/plain": [
       "<matplotlib.axes._subplots.AxesSubplot at 0x190fbdbb5f8>"
      ]
     },
     "execution_count": 59,
     "metadata": {},
     "output_type": "execute_result"
    },
    {
     "name": "stdout",
     "output_type": "stream",
     "text": [
      "Standard deviation:  30.771328021705067\n"
     ]
    },
    {
     "data": {
      "image/png": "[encoded data removed]",
      "text/plain": [
       "<Figure size 432x288 with 1 Axes>"
      ]
     },
     "metadata": {
      "needs_background": "light"
     },
     "output_type": "display_data"
    }
   ],
   "source": [
    "sam  = sample(list(x), 10)\n",
    "sns.distplot(sam)\n",
    "\n",
    "print(\"Standard deviation: \", np.std(sam))"
   ]
  },
  {
   "cell_type": "code",
   "execution_count": 60,
   "metadata": {
    "cell_style": "split"
   },
   "outputs": [
    {
     "data": {
      "text/plain": [
       "<matplotlib.axes._subplots.AxesSubplot at 0x190fbe36160>"
      ]
     },
     "execution_count": 60,
     "metadata": {},
     "output_type": "execute_result"
    },
    {
     "name": "stdout",
     "output_type": "stream",
     "text": [
      "Standard deviation:  29.819495739511645\n"
     ]
    },
    {
     "data": {
      "image/png": "[encoded data removed]",
      "text/plain": [
       "<Figure size 432x288 with 1 Axes>"
      ]
     },
     "metadata": {
      "needs_background": "light"
     },
     "output_type": "display_data"
    }
   ],
   "source": [
    "sns.distplot(x)\n",
    "\n",
    "print(\"Standard deviation: \", np.std(x))"
   ]
  },
  {
   "cell_type": "markdown",
   "metadata": {},
   "source": [
    "<b>Confidence Interval, Accuracy, Precision"
   ]
  },
  {
   "cell_type": "markdown",
   "metadata": {},
   "source": [
    "## Hypotheseis Testing Framework"
   ]
  },
  {
   "cell_type": "markdown",
   "metadata": {},
   "source": [
    "- Null hypothesis\n",
    "- Alternate Hypothesis"
   ]
  },
  {
   "cell_type": "markdown",
   "metadata": {},
   "source": [
    "Construct hypothesis about the population parameter (population mean) and not of the samples"
   ]
  },
  {
   "cell_type": "markdown",
   "metadata": {},
   "source": [
    "<b>\n",
    "1. We start with a null hypothesis $$H_{0}$$\n",
    "2. We also take a alternate hypothesis that represents what we are testing for $$H_{A}$$\n",
    "3. If the test result suggest that the data do not provide convincing evidence for alternate H, we stick with the null one. Otherwise if the data does provide evidence we reject null H in favor of alternative.\n"
   ]
  },
  {
   "cell_type": "markdown",
   "metadata": {},
   "source": [
    "## P Value"
   ]
  },
  {
   "cell_type": "markdown",
   "metadata": {},
   "source": [
    "Below is a distribution of values, let's say x:\n",
    "<img src=\"https://s3-ap-south-1.amazonaws.com/av-blog-media/wp-content/uploads/2019/08/Screenshot-2019-08-16-at-10.55.20.png\" height=\"500\" width=\"500\">\n",
    "\n",
    "picking any random val.."
   ]
  },
  {
   "cell_type": "markdown",
   "metadata": {},
   "source": [
    "<img src=\"https://s3-ap-south-1.amazonaws.com/av-blog-media/wp-content/uploads/2019/08/Screenshot-2019-08-16-at-10.55.34-768x532.png\" height=\"500\" width=\"500\">\n"
   ]
  },
  {
   "cell_type": "markdown",
   "metadata": {},
   "source": [
    "Significance Level : 0.05 or 5%\n",
    "- is the probability of the study rejecting the null hypothesis, given that the null hypothesis were true and the p-value of a result, p, is the probability of obtaining a result at least as extreme, given that the null hypothesis were true."
   ]
  },
  {
   "cell_type": "markdown",
   "metadata": {},
   "source": [
    "<img src=\"https://s3-ap-south-1.amazonaws.com/av-blog-media/wp-content/uploads/2019/09/Screenshot-2019-09-02-at-17.17.07-768x485.png\" height=500 width =500>"
   ]
  },
  {
   "cell_type": "markdown",
   "metadata": {},
   "source": [
    "<font color='brown'><b>If the likeliness of getting the sample score is less than alpha or the threshold p-value, we consider it significantly different from the population, or even belonging to some new sample distribution."
   ]
  },
  {
   "cell_type": "markdown",
   "metadata": {},
   "source": [
    "### p-value < significance lvl\n",
    "<img src=\"https://s3-ap-south-1.amazonaws.com/av-blog-media/wp-content/uploads/2019/08/Screenshot-2019-08-16-at-10.56.06-768x531.png\" height=500 width=500>\n",
    "\n",
    "<b>Area under the curve to the right of the threshold is very low.\n",
    "    \n",
    "<font color='brown'> Results obtained from the sample is an extremity of the population distribution (an extremely rare event), and hence there is a good chance it may belong to some other distribution (as shown below).</font>    \n",
    "\n",
    "<img src=\"https://s3-ap-south-1.amazonaws.com/av-blog-media/wp-content/uploads/2019/09/Screenshot-2019-09-03-at-11.54.48-768x580.png\" height=500 width=500>\n",
    "\n",
    "### p-value > significance lvl\n",
    "\n",
    "<img src=\"https://s3-ap-south-1.amazonaws.com/av-blog-media/wp-content/uploads/2019/08/Screenshot-2019-08-16-at-10.56.21-768x532.png\" height=500 width=500>\n"
   ]
  },
  {
   "cell_type": "markdown",
   "metadata": {},
   "source": [
    "## EXAMPLE: \n",
    "  \n",
    "   "
   ]
  },
  {
   "cell_type": "markdown",
   "metadata": {},
   "source": [
    "<font color='brown'><b>National Academy of Archery, the head coach intends to improve the performance of the archers ahead of an upcoming competition.\n",
    "\n",
    "He proposed and implemented the idea that breathing exercises and meditation before the competition could help. "
   ]
  },
  {
   "cell_type": "code",
   "execution_count": 7,
   "metadata": {},
   "outputs": [
    {
     "data": {
      "text/html": [
       "<div>\n",
       "<style scoped>\n",
       "    .dataframe tbody tr th:only-of-type {\n",
       "        vertical-align: middle;\n",
       "    }\n",
       "\n",
       "    .dataframe tbody tr th {\n",
       "        vertical-align: top;\n",
       "    }\n",
       "\n",
       "    .dataframe thead th {\n",
       "        text-align: right;\n",
       "    }\n",
       "</style>\n",
       "<table border=\"1\" class=\"dataframe\">\n",
       "  <thead>\n",
       "    <tr style=\"text-align: right;\">\n",
       "      <th></th>\n",
       "      <th>before exp</th>\n",
       "      <th>after exp</th>\n",
       "    </tr>\n",
       "  </thead>\n",
       "  <tbody>\n",
       "    <tr>\n",
       "      <th>years</th>\n",
       "      <td>10</td>\n",
       "      <td>1</td>\n",
       "    </tr>\n",
       "    <tr>\n",
       "      <th>mean</th>\n",
       "      <td>74</td>\n",
       "      <td>78</td>\n",
       "    </tr>\n",
       "    <tr>\n",
       "      <th>std</th>\n",
       "      <td>8</td>\n",
       "      <td>5</td>\n",
       "    </tr>\n",
       "    <tr>\n",
       "      <th>observations</th>\n",
       "      <td>1000</td>\n",
       "      <td>60</td>\n",
       "    </tr>\n",
       "  </tbody>\n",
       "</table>\n",
       "</div>"
      ],
      "text/plain": [
       "              before exp  after exp\n",
       "years                 10          1\n",
       "mean                  74         78\n",
       "std                    8          5\n",
       "observations        1000         60"
      ]
     },
     "execution_count": 7,
     "metadata": {},
     "output_type": "execute_result"
    }
   ],
   "source": [
    "temp = pd.DataFrame(data = [[10, 74, 8, 1000],\n",
    "                            [1, 78, 5, 60]],\n",
    "                   columns= ['years', 'mean','std', 'observations'])\n",
    "temp.index = ['before exp', 'after exp']\n",
    "temp = temp.T\n",
    "temp"
   ]
  },
  {
   "cell_type": "markdown",
   "metadata": {},
   "source": [
    "$$H_{0} :$$\n",
    "$$H_{A} :  $$\n"
   ]
  },
  {
   "cell_type": "code",
   "execution_count": 8,
   "metadata": {},
   "outputs": [
    {
     "data": {
      "text/plain": [
       "3.8729833462074175"
      ]
     },
     "execution_count": 8,
     "metadata": {},
     "output_type": "execute_result"
    }
   ],
   "source": [
    "#Z Score: \n",
    "Z  = (78 - 74) / (8/np.sqrt(60))\n",
    "Z"
   ]
  },
  {
   "cell_type": "code",
   "execution_count": 9,
   "metadata": {},
   "outputs": [
    {
     "data": {
      "text/plain": [
       "0.00010751117672950024"
      ]
     },
     "execution_count": 9,
     "metadata": {},
     "output_type": "execute_result"
    }
   ],
   "source": [
    "p = stats.norm.sf(abs(Z)) * 2\n",
    "p"
   ]
  },
  {
   "cell_type": "code",
   "execution_count": 64,
   "metadata": {},
   "outputs": [
    {
     "data": {
      "text/plain": [
       "0.9998924888232705"
      ]
     },
     "execution_count": 64,
     "metadata": {},
     "output_type": "execute_result"
    }
   ],
   "source": [
    "1 - p"
   ]
  },
  {
   "cell_type": "markdown",
   "metadata": {},
   "source": [
    "- The p-value is way smaller then the conventional significance level 0.05 and hence in this case we reject the null hypothesis.\n",
    "\n",
    "- <b><font color='brown'>Therefore, it is convenient to say that the increase in the performance of the archers in the sample population is not the result of luck."
   ]
  },
  {
   "cell_type": "code",
   "execution_count": null,
   "metadata": {},
   "outputs": [],
   "source": []
  },
  {
   "cell_type": "markdown",
   "metadata": {},
   "source": [
    "## CENTRAL LIMIT THEORUM"
   ]
  },
  {
   "cell_type": "markdown",
   "metadata": {},
   "source": [
    "We can start with any distribution with well defined mean, variance and standard deviation which can be both continous and discrete "
   ]
  },
  {
   "cell_type": "code",
   "execution_count": 65,
   "metadata": {},
   "outputs": [
    {
     "data": {
      "text/plain": [
       "<matplotlib.axes._subplots.AxesSubplot at 0x190fbeabdd8>"
      ]
     },
     "execution_count": 65,
     "metadata": {},
     "output_type": "execute_result"
    },
    {
     "data": {
      "image/png": "[encoded data removed]",
      "text/plain": [
       "<Figure size 432x288 with 1 Axes>"
      ]
     },
     "metadata": {
      "needs_background": "light"
     },
     "output_type": "display_data"
    }
   ],
   "source": [
    "temp = pd.DataFrame(data=[[1, 4],\n",
    "                   [2, 0],\n",
    "                   [3, 2],\n",
    "                   [4, 2],\n",
    "                   [5, 4],\n",
    "                   [6, 4],\n",
    "                   [7, 5],\n",
    "                   [8, 4],\n",
    "                   [9, 6],\n",
    "                   [10, 7]])\n",
    "temp.set_index(0).plot(kind='bar')"
   ]
  },
  {
   "cell_type": "markdown",
   "metadata": {},
   "source": [
    "The aboove has nothing to do with a normal distribution"
   ]
  },
  {
   "cell_type": "code",
   "execution_count": 66,
   "metadata": {},
   "outputs": [],
   "source": [
    "import math"
   ]
  },
  {
   "cell_type": "code",
   "execution_count": 67,
   "metadata": {},
   "outputs": [
    {
     "data": {
      "text/plain": [
       "2.75"
      ]
     },
     "execution_count": 67,
     "metadata": {},
     "output_type": "execute_result"
    },
    {
     "data": {
      "text/plain": [
       "2.75"
      ]
     },
     "execution_count": 67,
     "metadata": {},
     "output_type": "execute_result"
    },
    {
     "data": {
      "text/plain": [
       "3.5"
      ]
     },
     "execution_count": 67,
     "metadata": {},
     "output_type": "execute_result"
    }
   ],
   "source": [
    "s1 = [1, 1, 3, 6]\n",
    "np.mean(s1)\n",
    "s2 = [3, 4, 3, 1]\n",
    "np.mean(s2)\n",
    "s3 = [1, 1, 6, 6]\n",
    "np.mean(s3)\n"
   ]
  },
  {
   "cell_type": "code",
   "execution_count": 68,
   "metadata": {},
   "outputs": [
    {
     "data": {
      "text/plain": [
       "[1,\n",
       " 1,\n",
       " 1,\n",
       " 1,\n",
       " 3,\n",
       " 3,\n",
       " 4,\n",
       " 4,\n",
       " 5,\n",
       " 5,\n",
       " 5,\n",
       " 5,\n",
       " 6,\n",
       " 6,\n",
       " 6,\n",
       " 6,\n",
       " 7,\n",
       " 7,\n",
       " 7,\n",
       " 7,\n",
       " 7,\n",
       " 8,\n",
       " 8,\n",
       " 8,\n",
       " 8,\n",
       " 9,\n",
       " 9,\n",
       " 9,\n",
       " 9,\n",
       " 9,\n",
       " 9,\n",
       " 10,\n",
       " 10,\n",
       " 10,\n",
       " 10,\n",
       " 10,\n",
       " 10,\n",
       " 10]"
      ]
     },
     "execution_count": 68,
     "metadata": {},
     "output_type": "execute_result"
    }
   ],
   "source": [
    "l = []\n",
    "for i in enumerate(temp.loc[:, 1], 1):\n",
    "    for j in range(i[1]):\n",
    "        l.append(i[0])\n",
    "l        "
   ]
  },
  {
   "cell_type": "code",
   "execution_count": 69,
   "metadata": {},
   "outputs": [
    {
     "data": {
      "text/plain": [
       "<matplotlib.axes._subplots.AxesSubplot at 0x190fbdb31d0>"
      ]
     },
     "execution_count": 69,
     "metadata": {},
     "output_type": "execute_result"
    },
    {
     "data": {
      "text/plain": [
       "0.43625884231726464"
      ]
     },
     "execution_count": 69,
     "metadata": {},
     "output_type": "execute_result"
    },
    {
     "data": {
      "image/png": "[encoded data removed]",
      "text/plain": [
       "<Figure size 432x288 with 1 Axes>"
      ]
     },
     "metadata": {
      "needs_background": "light"
     },
     "output_type": "display_data"
    }
   ],
   "source": [
    "temp_l= []\n",
    "for i in range(1000):\n",
    "    temp_l.append(np.mean(sample(l, 20)))\n",
    "sns.distplot(temp_l)\n",
    "\n",
    "np.std(temp_l)"
   ]
  },
  {
   "cell_type": "code",
   "execution_count": 70,
   "metadata": {},
   "outputs": [],
   "source": [
    " # standard error decreases"
   ]
  },
  {
   "cell_type": "markdown",
   "metadata": {},
   "source": [
    "We keep increasing the sample size and the standard error ( standard deviation of a sample) decreases."
   ]
  },
  {
   "cell_type": "markdown",
   "metadata": {},
   "source": [
    "sample size ->  ∞ "
   ]
  },
  {
   "cell_type": "markdown",
   "metadata": {},
   "source": [
    "The above dosen't just apply to a sample mean (point_estimate)\n",
    "it could be a sample sum.\n",
    "The CLT would still apply.\n",
    "\n",
    "<b>CLT simply tells us that if we were going to take a bunch of those point estimates given that they come from the same distribution , plotting there frequency will give a normal distribution\n"
   ]
  },
  {
   "cell_type": "markdown",
   "metadata": {},
   "source": [
    "## <font color='red'>CLT\n",
    "<b> Distribution of a sample statistics is nearly normal , centered at the population mean and with a standard deviation equal to population standard deviation divided by square root of sample size </b>"
   ]
  },
  {
   "cell_type": "markdown",
   "metadata": {},
   "source": [
    "$$\\tilde{x} _ N (mean =  \\mu, SE = s / \\sqrt{n}) $$ \n",
    "<center><b><i>where n is the sample size"
   ]
  },
  {
   "cell_type": "markdown",
   "metadata": {},
   "source": [
    "### <font color='green'>Conditions:\n",
    "- Sample observation must be independent \n",
    "<br><br>\n",
    "- if sampling without replacement (n < 10% of the population ) <b> (because if samples are too large then they are less likely to be independent) </b>\n",
    "<br><br>\n",
    "- Either the population distribution is normal or if population distribution is skewed, the sample size is required to be large(n > 30)"
   ]
  },
  {
   "cell_type": "code",
   "execution_count": null,
   "metadata": {},
   "outputs": [],
   "source": []
  }
 ],
 "metadata": {
  "kernelspec": {
   "display_name": "Python 3",
   "language": "python",
   "name": "python3"
  },
  "language_info": {
   "codemirror_mode": {
    "name": "ipython",
    "version": 3
   },
   "file_extension": ".py",
   "mimetype": "text/x-python",
   "name": "python",
   "nbconvert_exporter": "python",
   "pygments_lexer": "ipython3",
   "version": "3.7.1"
  }
 },
 "nbformat": 4,
 "nbformat_minor": 2
}
